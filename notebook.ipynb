{
 "cells": [
  {
   "cell_type": "code",
   "execution_count": 1,
   "metadata": {},
   "outputs": [
    {
     "data": {
      "text/html": [
       "<script>\n",
       "code_show=true; \n",
       "function code_toggle() {\n",
       " if (code_show){\n",
       " $('div.input').hide();\n",
       " } else {\n",
       " $('div.input').show();\n",
       " }\n",
       " code_show = !code_show\n",
       "} \n",
       "$( document ).ready(code_toggle);\n",
       "</script>\n",
       "The raw code for this IPython notebook is by default hidden for easier reading.\n",
       "To toggle on/off the raw code, click <a href=\"javascript:code_toggle()\">here</a>."
      ],
      "text/plain": [
       "<IPython.core.display.HTML object>"
      ]
     },
     "execution_count": 1,
     "metadata": {},
     "output_type": "execute_result"
    }
   ],
   "source": [
    "from IPython.display import HTML\n",
    "\n",
    "HTML('''<script>\n",
    "code_show=true; \n",
    "function code_toggle() {\n",
    " if (code_show){\n",
    " $('div.input').hide();\n",
    " } else {\n",
    " $('div.input').show();\n",
    " }\n",
    " code_show = !code_show\n",
    "} \n",
    "$( document ).ready(code_toggle);\n",
    "</script>\n",
    "The raw code for this IPython notebook is by default hidden for easier reading.\n",
    "To toggle on/off the raw code, click <a href=\"javascript:code_toggle()\">here</a>.''')"
   ]
  },
  {
   "cell_type": "markdown",
   "metadata": {
    "slideshow": {
     "slide_type": "-"
    }
   },
   "source": [
    "### panoramas of cinema online"
   ]
  },
  {
   "cell_type": "markdown",
   "metadata": {},
   "source": [
    "# //PANORAMA CREATOR\n",
    "v0.02"
   ]
  },
  {
   "cell_type": "markdown",
   "metadata": {},
   "source": [
    "# 1. PANORAMA OF IMAGES"
   ]
  },
  {
   "cell_type": "code",
   "execution_count": 2,
   "metadata": {},
   "outputs": [],
   "source": [
    "# WELCOME\n",
    "import requests\n",
    "\n",
    "tag_http = 'http://poctag-env.eba-vjpstfpz.eu-central-1.elasticbeanstalk.com/tags'"
   ]
  },
  {
   "cell_type": "markdown",
   "metadata": {},
   "source": [
    "### tags index"
   ]
  },
  {
   "cell_type": "code",
   "execution_count": 3,
   "metadata": {
    "code_folding": []
   },
   "outputs": [
    {
     "name": "stdout",
     "output_type": "stream",
     "text": [
      "beach  .  big_hall  .  blue  .  danae  .  domestic  .  excitement  .  ice  .  kisses  .  lynchean  .  mustache  .  raining  .  sleep  .  sleepy bear  .  smile  .  steam  .  white  .  write  .  "
     ]
    }
   ],
   "source": [
    "# \n",
    "this_request = tag_http+'?action=GET_ALL_TAGS'\n",
    "r = requests.get(this_request).json()['body']\n",
    "for e in sorted(r):\n",
    "    print(e, end='  .  ')"
   ]
  },
  {
   "cell_type": "markdown",
   "metadata": {},
   "source": [
    "### users index"
   ]
  },
  {
   "cell_type": "code",
   "execution_count": 4,
   "metadata": {
    "code_folding": [],
    "scrolled": true
   },
   "outputs": [
    {
     "name": "stdout",
     "output_type": "stream",
     "text": [
      "cowboy  .  jorge  .  monkey2  .  monkey66  .  pig  .  sheriff  .  slash  .  "
     ]
    }
   ],
   "source": [
    "# \n",
    "this_request = tag_http+'?action=GET_ALL_USERS'\n",
    "r = requests.get(this_request).json()['body']\n",
    "for e in sorted(r):\n",
    "    print(e, end='  .  ')"
   ]
  },
  {
   "cell_type": "markdown",
   "metadata": {},
   "source": [
    "### > type your user name and/or tag"
   ]
  },
  {
   "cell_type": "code",
   "execution_count": 5,
   "metadata": {},
   "outputs": [
    {
     "data": {
      "application/vnd.jupyter.widget-view+json": {
       "model_id": "263998dd1ec74f8eaa686d20cad3fdb1",
       "version_major": 2,
       "version_minor": 0
      },
      "text/plain": [
       "interactive(children=(Text(value='', description='user'), Output()), _dom_classes=('widget-interact',))"
      ]
     },
     "metadata": {},
     "output_type": "display_data"
    },
    {
     "data": {
      "application/vnd.jupyter.widget-view+json": {
       "model_id": "532508cb0610464bb7ce0244bd1e37fa",
       "version_major": 2,
       "version_minor": 0
      },
      "text/plain": [
       "interactive(children=(Text(value='', description='tag'), Output()), _dom_classes=('widget-interact',))"
      ]
     },
     "metadata": {},
     "output_type": "display_data"
    },
    {
     "data": {
      "application/vnd.jupyter.widget-view+json": {
       "model_id": "575ec0e78f444affb891e9e236c4ceb8",
       "version_major": 2,
       "version_minor": 0
      },
      "text/plain": [
       "Button(button_style='info', description='refresh', style=ButtonStyle())"
      ]
     },
     "metadata": {},
     "output_type": "display_data"
    }
   ],
   "source": [
    "from IPython.display import display, clear_output\n",
    "from ipywidgets import interactive, interact, interactive_output\n",
    "import ipywidgets as widgets\n",
    "\n",
    "def getUser(user): return\n",
    "def getTag(tag): return\n",
    "\n",
    "def refresh(event):\n",
    "    clear_output()\n",
    "    display(w_user)\n",
    "    display(w_tag)\n",
    "    display(add_refresh_button)\n",
    "    \n",
    "    global this_user, this_tag\n",
    "    this_user = w_user.kwargs['user']\n",
    "    this_tag = w_tag.kwargs['tag']\n",
    "\n",
    "w_user = interactive(getUser, user='')\n",
    "w_tag = interactive(getTag, tag='')\n",
    "add_refresh_button = widgets.Button(description=\"refresh\", button_style='info')\n",
    "add_refresh_button.on_click(refresh)\n",
    "\n",
    "display(w_user)\n",
    "display(w_tag)\n",
    "display(add_refresh_button)"
   ]
  },
  {
   "cell_type": "markdown",
   "metadata": {},
   "source": [
    "### > select your options"
   ]
  },
  {
   "cell_type": "code",
   "execution_count": 6,
   "metadata": {
    "code_folding": [],
    "scrolled": false
   },
   "outputs": [
    {
     "name": "stdout",
     "output_type": "stream",
     "text": [
      " \n"
     ]
    },
    {
     "data": {
      "application/vnd.jupyter.widget-view+json": {
       "model_id": "659522681e9c40e6915c8fbb89e644c9",
       "version_major": 2,
       "version_minor": 0
      },
      "text/plain": [
       "HBox(children=(VBox(children=(interactive(children=(Text(value='3,2', description='grid'), Output()), _dom_cla…"
      ]
     },
     "metadata": {},
     "output_type": "display_data"
    },
    {
     "name": "stdout",
     "output_type": "stream",
     "text": [
      " \n"
     ]
    },
    {
     "data": {
      "application/vnd.jupyter.widget-view+json": {
       "model_id": "06bae98264064640b63dab64a161c3e7",
       "version_major": 2,
       "version_minor": 0
      },
      "text/plain": [
       "HBox(children=(RadioButtons(description='square imgs', options=('no', 'yes'), value='no'), RadioButtons(descri…"
      ]
     },
     "metadata": {},
     "output_type": "display_data"
    },
    {
     "name": "stdout",
     "output_type": "stream",
     "text": [
      " \n"
     ]
    },
    {
     "data": {
      "application/vnd.jupyter.widget-view+json": {
       "model_id": "fb79b4db77a54261998d49c066617789",
       "version_major": 2,
       "version_minor": 0
      },
      "text/plain": [
       "Button(button_style='info', description='create panorama', style=ButtonStyle())"
      ]
     },
     "metadata": {},
     "output_type": "display_data"
    }
   ],
   "source": [
    "#\n",
    "def getType(panorama, orientation, contour, square, color_bool, color, resolution):\n",
    "    return\n",
    "\n",
    "def getSize(grid):\n",
    "    return \n",
    "\n",
    "def getColor(hex_color):\n",
    "    h = hex_color.lstrip('#')\n",
    "    rgb_color = [int(h[i:i+2], 16) for i in (0, 2, 4)]\n",
    "    scaled_color = [ str(round(i/255,2)) for i in rgb_color ]\n",
    "    color_str = ','.join(scaled_color)  \n",
    "    return color_str\n",
    "\n",
    "# BUTTON EVENT\n",
    "def make_request(event):\n",
    "    clear_output()\n",
    "    display(ui1)\n",
    "    print (' ')\n",
    "    display(ui2)\n",
    "    print (' ')\n",
    "    display(request_panorama_button)\n",
    "\n",
    "    this_size = size.kwargs['grid']\n",
    "    this_type = panorama.value\n",
    "    this_square = square.value\n",
    "    this_contour = contour.value\n",
    "    this_resolution = resolution.value\n",
    "    \n",
    "    my_orientation = orientation.value\n",
    "    if my_orientation == '[ ]': this_orientation = 'square'\n",
    "    else: this_orientation = my_orientation\n",
    "    \n",
    "    this_color_bool = color_bool.value\n",
    "    if this_color_bool == 'yes':\n",
    "        this_color = getColor(color.value)\n",
    "    else: this_color = []\n",
    "    \n",
    "    this_query = 'http://poccreatepanoramatest-env.eba-zqpzqkpx.eu-central-1.elasticbeanstalk.com/panorama?'\n",
    "    if this_type: this_query = this_query+'type=%s'%this_type\n",
    "    if this_user: this_query = this_query+'&user=%s'%this_user\n",
    "    if this_tag: this_query = this_query+'&tag=%s'%this_tag\n",
    "    if this_orientation: this_query = this_query+'&orientation=%s'%this_orientation\n",
    "    if this_contour: this_query = this_query+'&images_contour=%s'%this_contour\n",
    "    if this_square: this_query = this_query+'&images_square=%s'%this_square\n",
    "    if this_color: this_query = this_query+'&images_contour_color=%s'%this_color\n",
    "    if this_size: this_query = this_query+'&grid=%s'%this_size\n",
    "    if this_resolution: this_query = this_query+'&resolution=%s'%this_resolution\n",
    "    \n",
    "    # make request\n",
    "    html_doc = requests.get(this_query)\n",
    "    \n",
    "    from bs4 import BeautifulSoup\n",
    "    soup = BeautifulSoup(html_doc.text, 'html.parser')\n",
    "    my_panorama = soup.p.text\n",
    "    if 'https://' in my_panorama: pass\n",
    "    else: print (my_panorama)\n",
    "\n",
    "    from IPython.display import Image\n",
    "    display( Image(url=my_panorama) )\n",
    "\n",
    "panorama = widgets.RadioButtons( options=['atlas','dreams'], value='atlas', description='type' )\n",
    "orientation = widgets.RadioButtons( options=['horizontal','vertical','[ ]'], value='horizontal', description='orientation', disabled=False )\n",
    "contour = widgets.RadioButtons( options=['no','white','black'], value='no', description='sketchy' )\n",
    "square = widgets.RadioButtons( options=['no', 'yes'], value='no', description='square imgs' )\n",
    "# grid / resolution box\n",
    "resolution = widgets.RadioButtons( options=['low', 'high'], value='low', description='resolution' )\n",
    "size = interactive(getSize, grid='3,2')\n",
    "size_box = widgets.VBox([size, resolution])\n",
    "# color box\n",
    "color = widgets.ColorPicker( concise=True, description='color')\n",
    "color_bool = widgets.RadioButtons( options=['no', 'yes'], value='no', description='sketch color' )\n",
    "color_box = widgets.VBox([color_bool, color])\n",
    "# arrange in boxes\n",
    "ui1 = widgets.HBox([size_box, panorama, orientation])\n",
    "ui2 = widgets.HBox([square, contour, color_box])\n",
    "out = widgets.interactive_output(getType, {'panorama': panorama,'orientation':orientation,'contour':contour,\n",
    "                                           'square':square,'color':color, 'color_bool':color_bool})\n",
    "\n",
    "print (' ')\n",
    "display(ui1)\n",
    "print (' ')\n",
    "display(ui2)\n",
    "\n",
    "request_panorama_button = widgets.Button(description=\"create panorama\", button_style='info')\n",
    "request_panorama_button.on_click(make_request)\n",
    "print (' ')\n",
    "display(request_panorama_button)"
   ]
  },
  {
   "cell_type": "code",
   "execution_count": null,
   "metadata": {},
   "outputs": [],
   "source": []
  }
 ],
 "metadata": {
  "kernelspec": {
   "display_name": "Python 3",
   "language": "python",
   "name": "python3"
  },
  "language_info": {
   "codemirror_mode": {
    "name": "ipython",
    "version": 3
   },
   "file_extension": ".py",
   "mimetype": "text/x-python",
   "name": "python",
   "nbconvert_exporter": "python",
   "pygments_lexer": "ipython3",
   "version": "3.7.6"
  }
 },
 "nbformat": 4,
 "nbformat_minor": 4
}
