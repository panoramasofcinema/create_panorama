{
 "cells": [
  {
   "cell_type": "code",
   "execution_count": 1,
   "metadata": {},
   "outputs": [
    {
     "data": {
      "text/html": [
       "<script>\n",
       "code_show=true; \n",
       "function code_toggle() {\n",
       " if (code_show){\n",
       " $('div.input').hide();\n",
       " } else {\n",
       " $('div.input').show();\n",
       " }\n",
       " code_show = !code_show\n",
       "} \n",
       "$( document ).ready(code_toggle);\n",
       "</script>\n",
       "toggle the code of this notebook on/off &nbsp;<a href=\"javascript:code_toggle()\">^</a>"
      ],
      "text/plain": [
       "<IPython.core.display.HTML object>"
      ]
     },
     "metadata": {},
     "output_type": "display_data"
    }
   ],
   "source": [
    "from IPython.display import HTML, display\n",
    "\n",
    "display(HTML('''<script>\n",
    "code_show=true; \n",
    "function code_toggle() {\n",
    " if (code_show){\n",
    " $('div.input').hide();\n",
    " } else {\n",
    " $('div.input').show();\n",
    " }\n",
    " code_show = !code_show\n",
    "} \n",
    "$( document ).ready(code_toggle);\n",
    "</script>\n",
    "toggle the code of this notebook on/off &nbsp;<a href=\"javascript:code_toggle()\">^</a>'''))"
   ]
  },
  {
   "cell_type": "markdown",
   "metadata": {
    "slideshow": {
     "slide_type": "-"
    }
   },
   "source": [
    "### PANORAMAS OF CINEMA online"
   ]
  },
  {
   "cell_type": "markdown",
   "metadata": {},
   "source": [
    "# // PANORAMA CREATOR\n",
    "v0.03"
   ]
  },
  {
   "cell_type": "code",
   "execution_count": 2,
   "metadata": {},
   "outputs": [],
   "source": [
    "# GLOBAL\n",
    "tag_http = 'http://poctag-env.eba-vjpstfpz.eu-central-1.elasticbeanstalk.com/tags'\n",
    "button_color = 'black' # #7d1b27"
   ]
  },
  {
   "cell_type": "markdown",
   "metadata": {},
   "source": [
    "## PANORAMA OF IMAGES"
   ]
  },
  {
   "cell_type": "markdown",
   "metadata": {},
   "source": [
    "### tags index"
   ]
  },
  {
   "cell_type": "code",
   "execution_count": 3,
   "metadata": {
    "code_folding": []
   },
   "outputs": [
    {
     "name": "stdout",
     "output_type": "stream",
     "text": [
      " mouth  .  Archive  .  Elizabeth  .  H2O  .  Marchant  .  Na  .  Sophists’ money  .  Spirit  .  agora  .  agora portal  .  agora theatre  .  aiakos  .  aisle  .  alien  .  all  .  amphitheatre  .  apollo  .  apollon  .  apotheosium  .  applause  .  arava_valley  .  arcade  .  architecturalcomponent  .  archive  .  area  .  area_lizzy  .  area_lizzy2  .  arena  .  ark  .  assembly  .  atmosphere  .  attack  .  audience  .  auditorium  .  balcony  .  balloon  .  ballroom  .  bank  .  banquet  .  banquet panorama  .  banquet2  .  banquetpanorama  .  bar  .  baroque  .  basileion  .  basileios  .  basilica  .  basilica_altar  .  basilica_atmosphere  .  basilica_ceiling  .  basilica_columns  .  basilica_floor  .  basin  .  bath  .  bath   .  bathrobe  .  bderoom  .  beach  .  bedroom  .  bedroom_atmosphere  .  bema  .  big_hall  .  billboard  .  biosphere  .  bird  .  bistrot_atmosphere  .  bistrot_ceiling  .  bistrot_columns  .  bistrot_floor  .  bistrot_table  .  bite  .  black  .  blackout  .  blade-runner  .  bladerunner  .  blood  .  blue  .  boat  .  bondage  .  book  .  boudoir  .  bouleterion  .  boxing   .  bubble  .  buffet  .  building site  .  burning  .  cafe  .  cage  .  camping  .  candles  .  candy  .  capsule  .  carpet  .  carrousel  .  cassettes  .  catacombs  .  catastrophe  .  cathedral  .  cave  .  cemetery  .  centralizing  .  ceremony  .  ch  .  chairs  .  chaiselongue  .  chandelier  .  chase  .  chess  .  children  .  chr  .  chrome  .  church  .  churches  .  cigarette  .  cinema  .  circe  .  circe_confusing  .  circe_openings  .  circe_roofs  .  circe_sorted_1  .  circe_textile  .  circe_walls  .  circle  .  circus  .  city  .  cityscape  .  classicism  .  clinic  .  clo  .  cloche  .  cloud  .  colonade  .  color  .  color-palette  .  colour  .  colours  .  columns  .  confession  .  connections  .  continuous_space  .  cook  .  copy  .  coral  .  corner  .  corridor  .  council  .  coupola  .  courage  .  courtyard  .  couveuse  .  coverBrief  .  craft  .  creation  .  crowd  .  crystal  .  cupbearer  .  cupola  .  curtain  .  cycle  .  cycling  .  danae  .  dance  .  dead animals  .  delirium  .  desert  .  detail  .  diams  .  diner  .  dining  .  dining hall  .  diningRed  .  dining_room  .  dinner  .  diplomatic_Material  .  diplomatic_corridor  .  diplomatic_furniture  .  diplomatic_material  .  domestic  .  dominic  .  doors  .  double_helix  .  dpilomatic_corridor  .  draught  .  dress_up  .  dressedup  .  dressingroom  .  drink  .  duble_helix  .  dumbwaiter  .  dumbwaiter_mouth  .  dumbwaiter_plate  .  dumbwaiter_shaft  .  echo  .  echo_material  .  echo_structure  .  echo_topo  .  egg  .  egg_cook  .  eiffel tower  .  electric  .  elements  .  elevator  .  elevator_shaft  .  elisabeth  .  embty_room  .  entrance  .  entrance_hall_lizzy  .  escalation  .  event  .  excess  .  fabric  .  facade  .  facade_lizzy  .  facde  .  fall  .  fashion  .  feast  .  figure  .  fire  .  fire   .  floating_tank  .  flood  .  floor  .  foam  .  fog  .  food  .  food   .  forest  .  forest/swamp  .  fountain  .  fountain_of_youth  .  foyer  .  frankenstein  .  free  .  friendliness  .  fur  .  gallery  .  garbage dump  .  garden  .  garden-city  .  gate  .  gift  .  glas_breaking  .  glass  .  god  .  gold  .  green_marble  .  greenhouse  .  grid  .  grotte  .  grotto  .  gsm  .  guest  .  guests  .  guild  .  guilt  .  hall  .  hand  .  hearthbeat_smelling  .  heaven  .  hedge  .  hell  .  helmsman  .  hephaistos  .  horizon  .  hotel-room  .  ice  .  iceberg  .  illusion  .  industry  .  influencer  .  ins  .  insect  .  inside  .  interaction  .  interior  .  interspace  .  jewelry  .  joy  .  justice  .  kai  .  kill  .  king'sCarrousel  .  king'sChamber  .  king'sCity  .  king'sDinner  .  king'sHall  .  king'sHorse  .  king'sStage  .  king'sYacht  .  kiss  .  kitchen  .  kitchen_element  .  kitchen_elements  .  kitchen_material  .  labblue  .  labyrinth  .  landscape  .  latermaybe  .  lavatorium  .  lavatory  .  lecture_room  .  lenny  .  letter  .  liberality  .  library  .  library_work  .  liftknopf  .  light  .  light   .  light_hearing  .  limestone  .  line1  .  line2  .  line3  .  line4  .  living_room  .  lizzyszoo  .  lobby  .  lynchean  .  magic  .  magnanimity  .  magnificence  .  main_hall  .  marble  .  market  .  material  .  material_kitchen  .  maybe  .  maybe   .  maybelater  .  maze_facade  .  media  .  medieval city  .  meeting  .  menagerie  .  menu  .  metis  .  metis_columns  .  metis_openings  .  metis_patterns  .  metis_roofs  .  metis_sorted_1  .  metis_structure  .  mezzanine  .  mint  .  mirror  .  mirroring  .  mix  .  monitor  .  monster  .  monument  .  monument   .  mor  .  moscow  .  mother  .  mouth  .  muesum  .  narrow  .  nature  .  newsroom  .  niche  .  nomadic_space  .  normality  .  oculus  .  office  .  one_movie  .  oparea  .  openings  .  opera  .  opera_area  .  operating-room  .  optheosium  .  ornament  .  ornamentarium  .  outside  .  ouverture  .  painting  .  palace  .  palacesbath  .  palacescompartments  .  palacescover  .  palacescover2  .  palacescover3  .  palacesdelicacies  .  palacesface  .  palacesfashion  .  palacesfoyer  .  palacesgrotto  .  palaceshall  .  palaceslover  .  palacesobjects  .  palacesompartments  .  palacespaintings  .  palacesralationtoparis  .  palacesrelationtoparis  .  palacesrextures  .  palacesship  .  palacessuitcase  .  palacestextures  .  palacestower  .  pandora  .  pandora_bib  .  pandora_out  .  pantheon  .  parano  .  paris  .  parliament  .  party  .  passetto  .  passetto_mouth  .  patience  .  pattern  .  people mass  .  piano  .  pier  .  pink  .  planning  .  plastic  .  plate  .  playground  .  plaza  .  plenty  .  prison  .  procession  .  protest  .  rain  .  raining  .  rave  .  reception  .  recovery  .  red  .  resting  .  rich forest  .  ritual  .  rituals  .  rock  .  room  .  s  .  sacrifice  .  sad  .  salon  .  satin  .  scaffolding  .  scenario  .  science  .  screen  .  secret  .  seine  .  seinepanorama  .  senses  .  ser  .  server  .  shadow  .  shame  .  shape-of-water  .  shapes-of-water  .  sheep  .  shine  .  shining  .  ship  .  shopping mall  .  silhouette  .  site  .  sittinginbath  .  skull  .  sky  .  skyline  .  sleep  .  snow  .  snow   .  solar  .  sound  .  sounds_touching  .  sounds_watching  .  sparks  .  specatcle  .  speech  .  spiegelsaal  .  stage  .  stair  .  staircase  .  stairs  .  steam  .  steel structure  .  steps  .  stone  .  stones  .  strategeion  .  structure  .  studio  .  surrealism  .  surroundings  .  symmetry  .  synesthetic  .  table  .  taste_hearing  .  temperance  .  temple  .  tennis  .  tent  .  textile  .  texture  .  textures  .  the city  .  theater 1  .  theater1  .  theatre  .  this  .  throne  .  tiles  .  time_seeing  .  tomb  .  torch  .  tower  .  training_ground  .  transition  .  transparency  .  tree  .  treeandbalcony  .  trickster  .  underwater  .  university  .  violin  .  void  .  waiter  .  wallpaper  .  wasteland  .  water  .  waterdrop  .  waterfall  .  wave  .  white  .  white_space  .  wi  .  wild  .  window  .  windows  .  wine_glass  .  wittiness  .  woman  .  wtc  .  wunderkammer  .  yellow  .  "
     ]
    },
    {
     "data": {
      "application/vnd.jupyter.widget-view+json": {
       "model_id": "24a6d541dd0348aa8e3ff240ca9abc46",
       "version_major": 2,
       "version_minor": 0
      },
      "text/plain": [
       "Button(button_style='info', description='refresh tags', style=ButtonStyle(button_color='black'))"
      ]
     },
     "metadata": {},
     "output_type": "display_data"
    }
   ],
   "source": [
    "import requests\n",
    "import ipywidgets as widgets\n",
    "\n",
    "this_request = tag_http+'?action=GET_ALL_TAGS'\n",
    "r = requests.get(this_request).json()['body']\n",
    "for e in sorted(r):\n",
    "    print(e, end='  .  ')\n",
    "    \n",
    "def get_tags(event):\n",
    "    clear_output()\n",
    "\n",
    "    this_request = tag_http+'?action=GET_ALL_TAGS'\n",
    "    r = requests.get(this_request).json()['body']\n",
    "    for e in sorted(r):\n",
    "        print(e, end='  .  ')\n",
    "    \n",
    "    display(refresh_tags_button)\n",
    "    \n",
    "refresh_tags_button = widgets.Button(description=\"refresh tags\", button_style='info')\n",
    "refresh_tags_button.style.button_color = button_color\n",
    "display(refresh_tags_button)\n",
    "refresh_tags_button.on_click(get_tags)"
   ]
  },
  {
   "cell_type": "markdown",
   "metadata": {},
   "source": [
    "### users index"
   ]
  },
  {
   "cell_type": "code",
   "execution_count": 4,
   "metadata": {
    "code_folding": [],
    "scrolled": true
   },
   "outputs": [
    {
     "name": "stdout",
     "output_type": "stream",
     "text": [
      "3-2  .  Helia  .  Julie  .  Rachelle  .  archive  .  birk  .  circe  .  cowboy  .  dominic  .  eva  .  flavio  .  gaad  .  gsm  .  h  .  heldc  .  helia  .  hero  .  jb  .  jno  .  jorge  .  julie  .  julie   .  k  .  lah  .  laura  .  liquid  .  oliver  .  page  .  poureli  .  queenlizzy  .  sebastian  .  secret  .  sigi  .  slash  .  sophie  .  stan  .  toti  .  vampire  .  wayward  .  "
     ]
    },
    {
     "data": {
      "application/vnd.jupyter.widget-view+json": {
       "model_id": "7cbf653f631e4601b9c2774a92b1e21e",
       "version_major": 2,
       "version_minor": 0
      },
      "text/plain": [
       "Button(button_style='info', description='refresh users', style=ButtonStyle(button_color='black'))"
      ]
     },
     "metadata": {},
     "output_type": "display_data"
    }
   ],
   "source": [
    "this_request = tag_http+'?action=GET_ALL_USERS'\n",
    "r = requests.get(this_request).json()['body']\n",
    "for e in sorted(r):\n",
    "    print(e, end='  .  ')\n",
    "\n",
    "def get_users(event):\n",
    "    clear_output()\n",
    "\n",
    "    this_request = tag_http+'?action=GET_ALL_USERS'\n",
    "    r = requests.get(this_request).json()['body']\n",
    "    for e in sorted(r):\n",
    "        print(e, end='  .  ')\n",
    "    \n",
    "    display(refresh_users_button)\n",
    "\n",
    "        \n",
    "refresh_users_button = widgets.Button(description=\"refresh users\", button_style='info')\n",
    "refresh_users_button.style.button_color = button_color\n",
    "display(refresh_users_button)\n",
    "refresh_users_button.on_click(get_users)"
   ]
  },
  {
   "cell_type": "markdown",
   "metadata": {},
   "source": [
    "### > type your user name and/or tag"
   ]
  },
  {
   "cell_type": "code",
   "execution_count": 5,
   "metadata": {},
   "outputs": [
    {
     "data": {
      "application/vnd.jupyter.widget-view+json": {
       "model_id": "fd406ba4787e42c18c56c48f8e0c66c9",
       "version_major": 2,
       "version_minor": 0
      },
      "text/plain": [
       "interactive(children=(Text(value='', description='tag'), Output()), _dom_classes=('widget-interact',))"
      ]
     },
     "metadata": {},
     "output_type": "display_data"
    },
    {
     "data": {
      "application/vnd.jupyter.widget-view+json": {
       "model_id": "b670818e27b8446eb183c99620bea8c3",
       "version_major": 2,
       "version_minor": 0
      },
      "text/plain": [
       "interactive(children=(Text(value='', description='user'), Output()), _dom_classes=('widget-interact',))"
      ]
     },
     "metadata": {},
     "output_type": "display_data"
    },
    {
     "data": {
      "application/vnd.jupyter.widget-view+json": {
       "model_id": "534490dccffc41699304a56a9e49b368",
       "version_major": 2,
       "version_minor": 0
      },
      "text/plain": [
       "Button(button_style='info', description='refresh', style=ButtonStyle(button_color='black'))"
      ]
     },
     "metadata": {},
     "output_type": "display_data"
    }
   ],
   "source": [
    "from IPython.display import clear_output\n",
    "from ipywidgets import interactive\n",
    "\n",
    "def getUser(user):\n",
    "    return\n",
    "\n",
    "def getTag(tag):\n",
    "    return\n",
    "\n",
    "def refresh(event):\n",
    "    clear_output()\n",
    "    display(w_tag)\n",
    "    display(w_user)\n",
    "    display(add_refresh_button)\n",
    "    \n",
    "    global this_user, this_tag\n",
    "    this_user = w_user.kwargs['user']\n",
    "    this_tag = w_tag.kwargs['tag']\n",
    "    \n",
    "    if len(this_user) > 0 and len(this_tag) > 0:\n",
    "        this_request = tag_http+'?action=GET_FRAMES_USER_TAG&tag=%s&user=%s'%(this_tag,this_user)\n",
    "        my_frames_tag = requests.get(this_request).json()\n",
    "        this_length = len(my_frames_tag['body'])\n",
    "        print (this_length, 'images to render')\n",
    "    elif len(this_user) > 0 and len(this_tag) == 0:\n",
    "        this_request = tag_http+'?action=GET_FRAMES_USER&user=%s'%(this_user)\n",
    "        my_frames_tag = requests.get(this_request).json()\n",
    "        this_length = len(my_frames_tag['body'])\n",
    "        print (this_length, 'images to render')\n",
    "        this_tags = set([ f['tag'] for f in my_frames_tag['body'] ])\n",
    "        print (this_user, 'is talking about  .  ', end='')\n",
    "        for e in sorted(this_tags): print(e, end='  .  ')\n",
    "    elif len(this_user) == 0 and len(this_tag) > 0:\n",
    "        this_request = tag_http+'?action=GET_FRAMES_TAG&tag=%s'%(this_tag)\n",
    "        my_frames_tag = requests.get(this_request).json()\n",
    "        this_length = len(my_frames_tag['body'])\n",
    "        print (this_length, 'images to render')\n",
    "        this_users = set([ f['user'] for f in my_frames_tag['body'] ])\n",
    "        print (this_tag, 'is talked about by  .  ', end='')\n",
    "        for e in sorted(this_users): print(e, end='  .  ')\n",
    "    else:\n",
    "        print ('type a user name and/or a tag')\n",
    "\n",
    "w_user = interactive(getUser, user='')\n",
    "w_tag = interactive(getTag, tag='')\n",
    "\n",
    "add_refresh_button = widgets.Button(description=\"refresh\", button_style='info')\n",
    "add_refresh_button.style.button_color = button_color\n",
    "add_refresh_button.on_click(refresh)\n",
    "\n",
    "display(w_tag)\n",
    "display(w_user)\n",
    "display(add_refresh_button)"
   ]
  },
  {
   "cell_type": "code",
   "execution_count": null,
   "metadata": {},
   "outputs": [],
   "source": []
  },
  {
   "cell_type": "markdown",
   "metadata": {},
   "source": [
    "### > select your options"
   ]
  },
  {
   "cell_type": "code",
   "execution_count": null,
   "metadata": {},
   "outputs": [],
   "source": []
  },
  {
   "cell_type": "code",
   "execution_count": 6,
   "metadata": {
    "code_folding": [],
    "scrolled": false
   },
   "outputs": [
    {
     "data": {
      "application/vnd.jupyter.widget-view+json": {
       "model_id": "53bba1a2b32345b7b071ff50e3a3a03c",
       "version_major": 2,
       "version_minor": 0
      },
      "text/plain": [
       "HBox(children=(interactive(children=(Text(value='3,2', description='size'), Output()), _dom_classes=('widget-i…"
      ]
     },
     "metadata": {},
     "output_type": "display_data"
    },
    {
     "data": {
      "application/vnd.jupyter.widget-view+json": {
       "model_id": "f56daa89c83f401f98157d25582c805e",
       "version_major": 2,
       "version_minor": 0
      },
      "text/plain": [
       "HBox(children=(RadioButtons(description='type', options=('atlas', 'dreams'), value='atlas'), RadioButtons(desc…"
      ]
     },
     "metadata": {},
     "output_type": "display_data"
    },
    {
     "data": {
      "application/vnd.jupyter.widget-view+json": {
       "model_id": "83af5a1ca6774e39a3726e645d6dd34b",
       "version_major": 2,
       "version_minor": 0
      },
      "text/plain": [
       "Button(button_style='info', description='create panorama', style=ButtonStyle(button_color='black'))"
      ]
     },
     "metadata": {},
     "output_type": "display_data"
    }
   ],
   "source": [
    "#\n",
    "def getType(panorama, orientation, square, resolution):\n",
    "    return\n",
    "\n",
    "def getSize(size):\n",
    "    return \n",
    "\n",
    "# BUTTON EVENT\n",
    "def make_request(event):\n",
    "    clear_output()\n",
    "    display(ui2)\n",
    "    display(ui1)\n",
    "    display(request_panorama_button)\n",
    "\n",
    "    this_size = size.kwargs['size']\n",
    "    this_type = panorama.value\n",
    "    this_square = square.value\n",
    "    this_contour = 'no'\n",
    "    this_resolution = resolution.value\n",
    "    \n",
    "    my_orientation = orientation.value\n",
    "    if my_orientation == '[ ]': this_orientation = 'square'\n",
    "    else: this_orientation = my_orientation\n",
    "\n",
    "    this_query = 'http://poccreatepanorama-env-1.eba-upy2qcn6.eu-central-1.elasticbeanstalk.com/panorama?'\n",
    "    if this_type: this_query = this_query+'type=%s'%this_type\n",
    "    if this_user: this_query = this_query+'&user=%s'%this_user\n",
    "    if this_tag: this_query = this_query+'&tag=%s'%this_tag\n",
    "    if this_orientation: this_query = this_query+'&orientation=%s'%this_orientation\n",
    "    if this_contour: this_query = this_query+'&images_contour=%s'%this_contour\n",
    "    if this_square: this_query = this_query+'&images_square=%s'%this_square\n",
    "    if this_size: this_query = this_query+'&grid=%s'%this_size\n",
    "    if this_resolution: this_query = this_query+'&resolution=%s'%this_resolution\n",
    "    \n",
    "    # make request\n",
    "    html_doc = requests.get(this_query)\n",
    "    \n",
    "    from bs4 import BeautifulSoup\n",
    "    soup = BeautifulSoup(html_doc.text, 'html.parser')\n",
    "    my_panorama = soup.p.text\n",
    "    if 'https://' in my_panorama: pass\n",
    "    else: print (my_panorama)\n",
    "\n",
    "    from IPython.display import Image\n",
    "    display( Image(url=my_panorama) )\n",
    "\n",
    "panorama = widgets.RadioButtons( options=['atlas','dreams'], value='atlas', description='type' )\n",
    "orientation = widgets.RadioButtons( options=['horizontal','vertical','[ ]'], value='horizontal', description='orientation', disabled=False )\n",
    "square = widgets.RadioButtons( options=['no', 'yes'], value='no', description='square imgs' )\n",
    "# grid / resolution box\n",
    "resolution = widgets.RadioButtons( options=['low', 'high'], value='low', description='resolution' )\n",
    "size = interactive(getSize, size='3,2')\n",
    "#size_box = widgets.VBox([resolution, size])\n",
    "# arrange in boxes\n",
    "ui1 = widgets.HBox([panorama, orientation, square, resolution])\n",
    "ui2 = widgets.HBox([size])\n",
    "out = widgets.interactive_output(getType, {'panorama': panorama, 'orientation':orientation, 'square':square,\n",
    "                                          'resolution': resolution})\n",
    "\n",
    "display(ui2)\n",
    "display(ui1)\n",
    "\n",
    "request_panorama_button = widgets.Button(description=\"create panorama\", button_style='info')\n",
    "request_panorama_button.style.button_color = button_color\n",
    "request_panorama_button.on_click(make_request)\n",
    "display(request_panorama_button)"
   ]
  },
  {
   "cell_type": "code",
   "execution_count": 7,
   "metadata": {},
   "outputs": [
    {
     "name": "stdout",
     "output_type": "stream",
     "text": [
      "\n",
      " \n",
      " \n",
      " \n",
      " \n",
      "\n"
     ]
    }
   ],
   "source": [
    "print('\\n', '\\n', '\\n', '\\n', '\\n')"
   ]
  },
  {
   "cell_type": "markdown",
   "metadata": {},
   "source": [
    "ETH Zurich &nbsp;&nbsp;&nbsp;&nbsp; Department of Architecture &nbsp;&nbsp;&nbsp;&nbsp; Chair for Digital Architectonics &nbsp;&nbsp;&nbsp;&nbsp; 2021"
   ]
  },
  {
   "cell_type": "code",
   "execution_count": null,
   "metadata": {},
   "outputs": [],
   "source": []
  }
 ],
 "metadata": {
  "kernelspec": {
   "display_name": "Python 3",
   "language": "python",
   "name": "python3"
  },
  "language_info": {
   "codemirror_mode": {
    "name": "ipython",
    "version": 3
   },
   "file_extension": ".py",
   "mimetype": "text/x-python",
   "name": "python",
   "nbconvert_exporter": "python",
   "pygments_lexer": "ipython3",
   "version": "3.7.6"
  }
 },
 "nbformat": 4,
 "nbformat_minor": 4
}
