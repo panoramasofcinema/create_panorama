{
 "cells": [
  {
   "cell_type": "code",
   "execution_count": 1,
   "metadata": {},
   "outputs": [
    {
     "data": {
      "text/html": [
       "<script>\n",
       "code_show=true; \n",
       "function code_toggle() {\n",
       " if (code_show){\n",
       " $('div.input').hide();\n",
       " } else {\n",
       " $('div.input').show();\n",
       " }\n",
       " code_show = !code_show\n",
       "} \n",
       "$( document ).ready(code_toggle);\n",
       "</script>\n",
       "The raw code for this IPython notebook is by default hidden for easier reading.\n",
       "To toggle on/off the raw code, click <a href=\"javascript:code_toggle()\">here</a>."
      ],
      "text/plain": [
       "<IPython.core.display.HTML object>"
      ]
     },
     "execution_count": 1,
     "metadata": {},
     "output_type": "execute_result"
    }
   ],
   "source": [
    "from IPython.display import HTML\n",
    "\n",
    "HTML('''<script>\n",
    "code_show=true; \n",
    "function code_toggle() {\n",
    " if (code_show){\n",
    " $('div.input').hide();\n",
    " } else {\n",
    " $('div.input').show();\n",
    " }\n",
    " code_show = !code_show\n",
    "} \n",
    "$( document ).ready(code_toggle);\n",
    "</script>\n",
    "The raw code for this IPython notebook is by default hidden for easier reading.\n",
    "To toggle on/off the raw code, click <a href=\"javascript:code_toggle()\">here</a>.''')"
   ]
  },
  {
   "cell_type": "markdown",
   "metadata": {
    "slideshow": {
     "slide_type": "-"
    }
   },
   "source": [
    "### panoramas of cinema online"
   ]
  },
  {
   "cell_type": "markdown",
   "metadata": {},
   "source": [
    "# //CREATE PANORAMA\n",
    "v0.01"
   ]
  },
  {
   "cell_type": "code",
   "execution_count": 2,
   "metadata": {
    "code_folding": []
   },
   "outputs": [],
   "source": [
    "# WELCOME \n",
    "import requests\n",
    "\n",
    "r = requests.get(\"https://panoramas-of-cinema.s3.eu-central-1.amazonaws.com/indexes/videotheques_inv.json\")\n",
    "query_response = r.json()"
   ]
  },
  {
   "cell_type": "markdown",
   "metadata": {},
   "source": [
    "## places index :"
   ]
  },
  {
   "cell_type": "code",
   "execution_count": 3,
   "metadata": {
    "code_folding": []
   },
   "outputs": [
    {
     "name": "stdout",
     "output_type": "stream",
     "text": [
      "airplane_cabin  .  airport_terminal  .  alcove  .  alley  .  amphitheater  .  amusement_arcade  .  amusement_park  .  apartment_building_outdoor  .  aquarium  .  aqueduct  .  arcade  .  arch  .  archaelogical_excavation  .  archive  .  arena_hockey  .  arena_performance  .  arena_rodeo  .  army_base  .  art_gallery  .  artists_loft  .  assembly_line  .  attic  .  auditorium  .  auto_factory  .  auto_showroom  .  badlands  .  balcony_interior  .  ball_pit  .  ballroom  .  bamboo_forest  .  bank_vault  .  banquet_hall  .  bar  .  barndoor  .  basement  .  basketball_court_indoor  .  bathroom  .  bazaar_indoor  .  bazaar_outdoor  .  beach  .  beach_house  .  beauty_salon  .  bedchamber  .  bedroom  .  beer_garden  .  beer_hall  .  berth  .  biology_laboratory  .  boardwalk  .  bookstore  .  booth_indoor  .  bow_window_indoor  .  bowling_alley  .  boxing_ring  .  bridge  .  bullring  .  burial_chamber  .  bus_interior  .  bus_station_indoor  .  butchers_shop  .  cabin_outdoor  .  campsite  .  campus  .  canal_natural  .  canal_urban  .  candy_store  .  canyon  .  car_interior  .  carrousel  .  castle  .  catacomb  .  cemetery  .  chemistry_lab  .  church_indoor  .  church_outdoor  .  classroom  .  clean_room  .  closet  .  clothing_store  .  cockpit  .  coffee_shop  .  computer_room  .  conference_center  .  conference_room  .  construction_site  .  corn_field  .  corral  .  corridor  .  cottage  .  courthouse  .  crevasse  .  crosswalk  .  dam  .  delicatessen  .  department_store  .  desert_road  .  desert_sand  .  desert_vegetation  .  dining_hall  .  discotheque  .  doorway_outdoor  .  dorm_room  .  downtown  .  dressing_room  .  driveway  .  elevator_door  .  elevator_lobby  .  elevator_shaft  .  embassy  .  engine_room  .  entrance_hall  .  escalator_indoor  .  fabric_store  .  farm  .  fastfood_restaurant  .  field_cultivated  .  field_road  .  field_wild  .  fire_escape  .  fishpond  .  flea_market_indoor  .  florist_shop_indoor  .  food_court  .  forest_broadleaf  .  forest_path  .  forest_road  .  formal_garden  .  fountain  .  galley  .  garage_indoor  .  gas_station  .  gazebo_exterior  .  general_store_indoor  .  general_store_outdoor  .  golf_course  .  greenhouse_indoor  .  grotto  .  gymnasium_indoor  .  hangar_outdoor  .  harbor  .  hardware_store  .  hayfield  .  heliport  .  highway  .  home_theater  .  hospital  .  hospital_room  .  hot_spring  .  hotel_outdoor  .  hotel_room  .  hunting_lodge_outdoor  .  ice_cream_parlor  .  ice_floe  .  ice_shelf  .  ice_skating_rink_indoor  .  ice_skating_rink_outdoor  .  iceberg  .  igloo  .  industrial_area  .  inn_outdoor  .  islet  .  jacuzzi_indoor  .  jail_cell  .  jewelry_shop  .  junkyard  .  kasbah  .  kennel_outdoor  .  kitchen  .  lagoon  .  landfill  .  landing_deck  .  laundromat  .  lawn  .  legislative_chamber  .  library_indoor  .  library_outdoor  .  loading_dock  .  lock_chamber  .  locker_room  .  mansion  .  manufactured_home  .  market_outdoor  .  marsh  .  martial_arts_gym  .  mausoleum  .  medina  .  mezzanine  .  mosque_outdoor  .  motel  .  mountain_path  .  movie_theater_indoor  .  museum_indoor  .  music_studio  .  natural_history_museum  .  nursery  .  nursing_home  .  oast_house  .  ocean  .  office  .  office_building  .  office_cubicles  .  oilrig  .  operating_room  .  orchard  .  orchestra_pit  .  pagoda  .  palace  .  pantry  .  park  .  parking_garage_indoor  .  parking_garage_outdoor  .  parking_lot  .  pasture  .  pet_shop  .  pharmacy  .  phone_booth  .  physics_laboratory  .  picnic_area  .  pier  .  pizzeria  .  playground  .  playroom  .  porch  .  promenade  .  pub_indoor  .  racecourse  .  raceway  .  railroad_track  .  rainforest  .  reception  .  recreation_room  .  repair_shop  .  residential_neighborhood  .  restaurant  .  restaurant_kitchen  .  restaurant_patio  .  rice_paddy  .  rock_arch  .  roof_garden  .  rope_bridge  .  runway  .  sandbox  .  sauna  .  schoolhouse  .  science_museum  .  server_room  .  shed  .  shoe_shop  .  shopfront  .  shower  .  ski_resort  .  ski_slope  .  sky  .  skyscraper  .  slum  .  snowfield  .  soccer_field  .  stable  .  stage_indoor  .  stage_outdoor  .  staircase  .  storage_room  .  street  .  subway_station_platform  .  supermarket  .  sushi_bar  .  swamp  .  swimming_hole  .  swimming_pool_indoor  .  synagogue_outdoor  .  television_room  .  television_studio  .  temple_asia  .  throne_room  .  ticket_booth  .  topiary_garden  .  toyshop  .  train_interior  .  train_station_platform  .  tree_farm  .  tree_house  .  trench  .  tundra  .  underwater_ocean_deep  .  utility_room  .  vegetable_garden  .  veterinarians_office  .  vineyard  .  volcano  .  volleyball_court_outdoor  .  waiting_room  .  water_park  .  watering_hole  .  wave  .  wheat_field  .  wind_farm  .  windmill  .  youth_hostel  .  zen_garden  .  "
     ]
    }
   ],
   "source": [
    "# PLACES \n",
    "for e in sorted(query_response['places']):\n",
    "    print(e, end='  .  ')"
   ]
  },
  {
   "cell_type": "markdown",
   "metadata": {},
   "source": [
    "## objects index :"
   ]
  },
  {
   "cell_type": "code",
   "execution_count": 4,
   "metadata": {
    "code_folding": []
   },
   "outputs": [
    {
     "name": "stdout",
     "output_type": "stream",
     "text": [
      "aeroplane  .  apple  .  backpack  .  banana  .  baseball_bat  .  baseball_glove  .  bear  .  bed  .  bench  .  bicycle  .  bird  .  boat  .  book  .  bottle  .  bowl  .  broccoli  .  bus  .  cake  .  car  .  carrot  .  cat  .  cell_phone  .  chair  .  clock  .  cow  .  cup  .  diningtable  .  dog  .  donut  .  elephant  .  fire_hydrant  .  fork  .  frisbee  .  giraffe  .  handbag  .  horse  .  hot_dog  .  keyboard  .  kite  .  knife  .  laptop  .  microwave  .  motorbike  .  mouse  .  orange  .  oven  .  parking_meter  .  person  .  pizza  .  pottedplant  .  refrigerator  .  remote  .  sandwich  .  scissors  .  sheep  .  sink  .  skateboard  .  sofa  .  spoon  .  sports_ball  .  stop_sign  .  suitcase  .  surfboard  .  teddy_bear  .  tennis_racket  .  tie  .  toilet  .  toothbrush  .  traffic_light  .  train  .  truck  .  tvmonitor  .  umbrella  .  vase  .  wine_glass  .  zebra  .  "
     ]
    }
   ],
   "source": [
    "# OBJECTS \n",
    "for e in sorted(query_response['objects']):\n",
    "    print(e, end='  .  ')"
   ]
  },
  {
   "cell_type": "markdown",
   "metadata": {},
   "source": [
    "# CREATE A PANORAMA :"
   ]
  },
  {
   "cell_type": "code",
   "execution_count": 5,
   "metadata": {
    "scrolled": false
   },
   "outputs": [
    {
     "name": "stdout",
     "output_type": "stream",
     "text": [
      "TYPE INDEXES AND TUNE VALUES\n"
     ]
    },
    {
     "data": {
      "application/vnd.jupyter.widget-view+json": {
       "model_id": "1ded0dc10b734af8974e1cd99751934d",
       "version_major": 2,
       "version_minor": 0
      },
      "text/plain": [
       "interactive(children=(Text(value='corridor', description='place'), FloatSlider(value=0.0, description='min_con…"
      ]
     },
     "metadata": {},
     "output_type": "display_data"
    },
    {
     "data": {
      "application/vnd.jupyter.widget-view+json": {
       "model_id": "477ad895d10a498796f8d0337e09c3f5",
       "version_major": 2,
       "version_minor": 0
      },
      "text/plain": [
       "interactive(children=(Text(value='chair', description='obj'), FloatSlider(value=0.0, description='min_conf', m…"
      ]
     },
     "metadata": {},
     "output_type": "display_data"
    },
    {
     "name": "stdout",
     "output_type": "stream",
     "text": [
      "CHECK FACES\n"
     ]
    },
    {
     "data": {
      "application/vnd.jupyter.widget-view+json": {
       "model_id": "e2f3a6574399449e8da282ac6c6146a5",
       "version_major": 2,
       "version_minor": 0
      },
      "text/plain": [
       "interactive(children=(Checkbox(value=True, description='no_faces'), Checkbox(value=True, description='small_fa…"
      ]
     },
     "metadata": {},
     "output_type": "display_data"
    },
    {
     "name": "stdout",
     "output_type": "stream",
     "text": [
      "CHECK ONE PANORAMA TYPE\n"
     ]
    },
    {
     "data": {
      "application/vnd.jupyter.widget-view+json": {
       "model_id": "a0d9918288834418b85ca6518b2b2a9d",
       "version_major": 2,
       "version_minor": 0
      },
      "text/plain": [
       "interactive(children=(Checkbox(value=True, description='atlas'), Checkbox(value=False, description='dreams'), …"
      ]
     },
     "metadata": {},
     "output_type": "display_data"
    }
   ],
   "source": [
    "# TUNE CONFIDENCE LEVELS \n",
    "from IPython.display import display, clear_output\n",
    "from ipywidgets import interactive, interact, interactive_output\n",
    "import ipywidgets as widgets\n",
    "\n",
    "def p(place, min_conf, max_conf):\n",
    "    return\n",
    "\n",
    "def o(obj, min_conf, max_conf):\n",
    "    return\n",
    "\n",
    "def f(no_faces, small_faces):\n",
    "    return\n",
    "\n",
    "def panorama_type(atlas, dreams):\n",
    "    return\n",
    "\n",
    "w_places = interactive(p, place='corridor',\n",
    "                min_conf=widgets.FloatSlider(min=0.00, max=1., step=.001, value=.0),\n",
    "                max_conf=widgets.FloatSlider(min=0.00, max=1., step=.001, value=1.) )\n",
    "\n",
    "w_objects = interactive(o, obj='chair',\n",
    "                min_conf=widgets.FloatSlider(min=0.00, max=1., step=.001, value=.0),\n",
    "                max_conf=widgets.FloatSlider(min=0.00, max=1., step=.001, value=1.) )\n",
    "\n",
    "w_faces = interactive(f, no_faces=True, small_faces=True)\n",
    "\n",
    "w_type = interactive(panorama_type, atlas=True, dreams=False)\n",
    "\n",
    "print('TYPE INDEXES AND TUNE VALUES')\n",
    "display(w_places)\n",
    "display(w_objects)\n",
    "print('CHECK FACES')\n",
    "display(w_faces)\n",
    "print('CHECK ONE PANORAMA TYPE')\n",
    "display(w_type)"
   ]
  },
  {
   "cell_type": "code",
   "execution_count": 6,
   "metadata": {
    "code_folding": []
   },
   "outputs": [
    {
     "data": {
      "application/vnd.jupyter.widget-view+json": {
       "model_id": "93926d7d6b1f4c16bc50604c95f22da4",
       "version_major": 2,
       "version_minor": 0
      },
      "text/plain": [
       "Button(button_style='info', description='show panorama', style=ButtonStyle())"
      ]
     },
     "metadata": {},
     "output_type": "display_data"
    }
   ],
   "source": [
    "def refresh_query(event):\n",
    "    clear_output()\n",
    "    display(refresh_button)\n",
    "    \n",
    "    place = w_places.kwargs['place']\n",
    "    place_conf = \"%s,%s\"%(w_places.kwargs['min_conf'],w_places.kwargs['max_conf'])\n",
    "\n",
    "    obj = w_objects.kwargs['obj']\n",
    "    obj_conf = \"%s,%s\"%(w_objects.kwargs['min_conf'],w_objects.kwargs['max_conf'])\n",
    "\n",
    "    faces = str()\n",
    "    if w_faces.kwargs['no_faces']:\n",
    "        faces = faces+'no_faces'\n",
    "    if w_faces.kwargs['small_faces']:\n",
    "        if len(faces) > 0:\n",
    "            faces = faces+',small_faces'\n",
    "        else:\n",
    "            faces = faces+'small_faces'\n",
    "    if len(faces) == 0:\n",
    "        print ('! check at least one faces')\n",
    "        return\n",
    "    \n",
    "    if w_type.kwargs['atlas']:\n",
    "        this_type = 'atlas'\n",
    "    if w_type.kwargs['dreams']:\n",
    "        this_type = 'dreams'\n",
    "    if w_type.kwargs['atlas'] and w_type.kwargs['dreams']:\n",
    "        print ('! select only one panorama type')\n",
    "        return\n",
    "        \n",
    "    # \n",
    "    this_query = 'http://poccreatepanorama-env.eba-nwxfnqv5.eu-central-1.elasticbeanstalk.com/panorama?'\n",
    "    if place: this_query = this_query+'places=%s,%s'%(place,place_conf)\n",
    "    if faces: this_query = this_query+'&faces=%s'%faces\n",
    "    if obj: this_query = this_query+'&objects=%s,%s'%(obj,obj_conf)\n",
    "    if this_type: this_query = this_query+'&type=%s'%this_type\n",
    "\n",
    "    html_doc = requests.get(this_query)\n",
    "\n",
    "    from bs4 import BeautifulSoup\n",
    "    soup = BeautifulSoup(html_doc.text, 'html.parser')\n",
    "    my_panorama = soup.p.text\n",
    "    if 'https://' in my_panorama: pass\n",
    "    else: print (my_panorama)\n",
    "    \n",
    "    from IPython.display import Image\n",
    "    display( Image(url=my_panorama) )\n",
    "    \n",
    "refresh_button = widgets.Button(description=\"show panorama\", button_style='info')\n",
    "display(refresh_button)\n",
    "refresh_button.on_click(refresh_query)"
   ]
  },
  {
   "cell_type": "code",
   "execution_count": null,
   "metadata": {},
   "outputs": [],
   "source": []
  }
 ],
 "metadata": {
  "kernelspec": {
   "display_name": "Python 3",
   "language": "python",
   "name": "python3"
  },
  "language_info": {
   "codemirror_mode": {
    "name": "ipython",
    "version": 3
   },
   "file_extension": ".py",
   "mimetype": "text/x-python",
   "name": "python",
   "nbconvert_exporter": "python",
   "pygments_lexer": "ipython3",
   "version": "3.7.7"
  }
 },
 "nbformat": 4,
 "nbformat_minor": 4
}
